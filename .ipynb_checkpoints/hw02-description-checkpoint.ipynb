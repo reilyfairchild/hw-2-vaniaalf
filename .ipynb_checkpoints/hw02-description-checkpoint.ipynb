{
 "cells": [
  {
   "cell_type": "markdown",
   "id": "fbfcf616-e096-42f0-99b3-6d0a933ce55b",
   "metadata": {},
   "source": [
    "# Homework No 2 - _From Notebooks to Research Packages_\n",
    "\n",
    "* **Statistics 159/259, Fall 2025**\n",
    "* **Due Thursday 10/09/2022, 11:59PM PT**\n",
    "* Prof. F. Pérez and GSIs Jimmy Butler and Sequoia Andrade, Department of Statistics, UC Berkeley.\n",
    "* This assignment is worth a maximum of **40 points**.\n",
    "* Assignment type: **individual**.\n",
    "\n",
    "For this assignment, you will use the [LIGO Gravitational Wave Detection Tutorial Notebook](https://github.com/losc-tutorial/LOSC_Event_tutorial) and companion files that are publicly available on Github. Using this as a starting point, you will add some additional structure to make this repository a reproducible research package, with installable utilities separated into a small `Python` package, a `conda` environment specification, and a new `Binder` link. This assignment is also a bit more modular in nature, so also take this opportunity to exercise good `git` practices (committing and pushing chunks of work incrementally, good commit messages, etc.) *All of the work for this assignment will take place in your assignment GitHub repository.*\n",
    "\n",
    "While the LIGO Open Science Center did a remarkable job offering these notebooks along with supporting code and a usable Binder link, we want you to make some improvements on top of this foundation: for example, making certain versions explicit to ensure long-term reproducibility, more cleanly separating the supporting utilities from the code, etc.\n",
    "\n",
    "The LIGO project is a super interesting and extremely important experiment that proved the existence of gravitational waves by measuring small fluctuations of space. You can find more information about the science behind LIGO in their [tutorials](https://www.gw-openscience.org/tutorials/)."
   ]
  },
  {
   "cell_type": "markdown",
   "id": "7026949e-a3aa-47ce-bcea-f8c29b3f0d97",
   "metadata": {},
   "source": [
    "## Deliverables\n",
    "\n",
    "### [5 points] Repository structure\n",
    "\n",
    "You will add to your repository from the original LIGO one, only the following data files (we're going to focus on the GW150914 event, to keep the repository a bit smaller, so we won't include the data for other events):\n",
    "\n",
    "```\n",
    "BBH_events_v3.json\n",
    "GW150914_4_template.hdf5\n",
    "H-H1_LOSC_4_V2-1126259446-32.hdf5\n",
    "L-L1_LOSC_4_V2-1126259446-32.hdf5\n",
    "```\n",
    "\n",
    "From the original repository, you will also need the `LOSC_Event_tutorial.ipynb` notebook as well as the `readligo.py` utility Python file. Note that later (see below), you will be required to move the Python file into a separate package for installation.\n",
    "\n",
    "````{note} \n",
    "Add the following paragraph to the beginning of the `LOSC_Event_tutorial.ipynb` notebook so that anyone who finds this repository clearly knows where the original credit for this content goes to:\n",
    "\n",
    "_This repository is public so that Binder can find it. All code and data is based on the original [LIGO Center for Open Science Tutorial Repository](https://github.com/losc-tutorial/LOSC_Event_tutorial). This repository is a class exercise that restructures the original LIGO code for improved reproducibility, as a homework assignment for the [Fall 2025 installment of UC Berkeley's Stat 159/259 course, _Reproducible and Collaborative Data Science](https://ucb-stat-159-f25.github.io/site/). Authorship of the original analysis code rests with the LIGO collaboration._\n",
    "````\n",
    "\n",
    "**Tag:** you must add a git tag to the repository at this stage called `repo-basic`."
   ]
  },
  {
   "cell_type": "markdown",
   "id": "f5a541d2-baf9-4eaa-a2ef-2dc869f3ea9f",
   "metadata": {},
   "source": [
    "### [10 points] Python `ligotools` package\n",
    "\n",
    "The notebook as shipped by LIGO includes a companion script, `readligo.py` with some data reading utilities.  You will move this file from being next to the notebook into a folder called `ligotools` and change the notebook line that reads\n",
    "\n",
    "```python\n",
    "import readligo as rl\n",
    "```\n",
    "\n",
    "into\n",
    "\n",
    "```python\n",
    "from ligotools import readligo as rl\n",
    "```\n",
    "\n",
    "For this, you will need the `ligotools` folder to work as a proper Python package. \n",
    "\n",
    "**Tag:** at this stage, make sure you commit and add a tag called `ligotools-pkg`."
   ]
  },
  {
   "cell_type": "markdown",
   "id": "d16cd79b-10e1-4384-83fc-c217bbe449af",
   "metadata": {},
   "source": [
    "### [10 Points] A working `ligo` Conda environment\n",
    "\n",
    "You will add to this repository an `environment.yml` file that creates an environment named `ligo`, and installs the necessary dependencies to properly run this notebook on our hub. A few important things to keep in mind:\n",
    "\n",
    "* Check the version of Python that the LIGO notebook is using.  You will need to explicitly list the Python version in your environment.\n",
    "\n",
    "* Take advantage of the LIGO Binder *(button in repo README)* to experiment with which versions of various packages it uses, so that you can add those same ones to your environment (in their original specification, they did not list specific Python versions, so they are frozen in time somewhat by accident based on when the Binder was last built).\n",
    "\n",
    "* To find a package version, you can print its `__version__` attribute after importing it in a Python environment. At the command line, you can also see the available packages in your system using `mamba list` and `pip list` respectively (depending on whether they were installed with mamba/conda or pip). You can filter the list of all the installed libraries with the `grep` command. For example, you can do `conda env export | grep numpy` to quickly find the numpy version in the environment.\n",
    "\n",
    "* If a package on Binder has version say `1.2.3`, in your environment file you should request only `1.2`, _without_ the third digit. Some revision versions (the three version digits are normally known as major.minor.revision) may not always be available identically today, so it's a bit safer to request version X.Y than to try to get X.Y.Z and have it fail because Z is not available.\n",
    "\n",
    "* Be careful with one package that you will need to list explicitly in addition to the scientific libraries and ipykernel: `decorator`. Check its version on Binder.  If you don't request it by X.Y version, you will accidentally get a much newer version that is not compatible with Python 2.7!\n",
    "\n",
    "* Remember to install the environment for yourself, add its kernel, and start running the notebook on the Stat159 DataHub in that environment. You will have to install `ipykernel` and then create the respective kernel in order for this to work.\n",
    "\n",
    "**Tag:** when you complete this stage, add a tag called `conda-env`."
   ]
  },
  {
   "cell_type": "markdown",
   "id": "3cc4d831-d97a-4883-82ad-09bfb8e2ea6a",
   "metadata": {},
   "source": [
    "### [10 points] Add Binder support\n",
    "\n",
    "Once you have everything working using the `ligo` environment on the hub, test that your repository also works on Binder.  Then, add a Binder badge to your `README.md` file so that anyone who visits your repo on Github can click on the badge and get taken to a running Binder (just as the LIGO repository has in their `README.md`). That Binder session should:\n",
    "\n",
    "1. Land on the JupyterLab interface by default.\n",
    "2. Have your main `LOSC_Event_tutorial.ipynb` notebook already open.\n",
    "\n",
    "The [Binder documentation](https://mybinder.readthedocs.io/en/latest/) explains how to achieve both of these goals.\n",
    "\n",
    "You _must_ test that the binder actually works and that your notebook can run to completion in the  Binder, just like the original LIGO binder did, as the instructors will use the Binder links to test your work and look at your repo.\n",
    "\n",
    "**Tag:** at this stage, add a tag called `binder`."
   ]
  },
  {
   "attachments": {},
   "cell_type": "markdown",
   "id": "91df7541-9e77-46ab-a0bf-d7b9ad37ee82",
   "metadata": {},
   "source": [
    "### [5 points] GitHub repository\n",
    "\n",
    "In this homework we are going to evaluate the overall workflow using git and GitHub. Be sure that you repository includes:\n",
    "- Clear commit messages as you make progress on the homework. \n",
    "- Your repository needs to include all the tags described in the previous items. \n",
    "- The `README.md` should include a basic description of the project with the Binder badge on it so you can directly launch Binder from there. \n",
    "- Not include any other file or folder than those needed for the project. For archiving this you can include a `.gitignore` file with the files you want git to ignore."
   ]
  }
 ],
 "metadata": {
  "kernelspec": {
   "display_name": "Python 3 (ipykernel)",
   "language": "python",
   "name": "python3"
  },
  "language_info": {
   "codemirror_mode": {
    "name": "ipython",
    "version": 3
   },
   "file_extension": ".py",
   "mimetype": "text/x-python",
   "name": "python",
   "nbconvert_exporter": "python",
   "pygments_lexer": "ipython3",
   "version": "3.12.0"
  }
 },
 "nbformat": 4,
 "nbformat_minor": 5
}
